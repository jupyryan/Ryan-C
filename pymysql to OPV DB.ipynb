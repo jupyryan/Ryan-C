{
 "cells": [
  {
   "cell_type": "code",
   "execution_count": null,
   "metadata": {
    "collapsed": true
   },
   "outputs": [],
   "source": [
    "# -*- coding: utf-8 -*-\n",
    "import pandas as pd\n",
    "import numpy as np\n",
    "import pymysql"
   ]
  },
  {
   "cell_type": "code",
   "execution_count": null,
   "metadata": {
    "scrolled": false
   },
   "outputs": [],
   "source": [
    "import os\n",
    "%cd C:\\python"
   ]
  },
  {
   "cell_type": "markdown",
   "metadata": {},
   "source": [
    "## pymysql"
   ]
  },
  {
   "cell_type": "code",
   "execution_count": null,
   "metadata": {
    "collapsed": true
   },
   "outputs": [],
   "source": [
    "host = \"___.__.__.___\"\n",
    "port1 = 3306\n",
    "user1 = \"******\"\n",
    "passwd = \"*****\"\n",
    "db_name = \"*****\"\n",
    "\n",
    "conn = pymysql.connect(host, port=port1, user=user1, passwd=passwd, db=db_name)"
   ]
  },
  {
   "cell_type": "code",
   "execution_count": null,
   "metadata": {
    "scrolled": true
   },
   "outputs": [],
   "source": [
    "SQLstr = \"SELECT * from _____\\\n",
    "        where main_id in ('____')\\\n",
    "        and title like '%＿＿%'\\\n",
    "        and s_area_id in ('____')\\\n",
    "        and post_time> '____'\\\n",
    "        and post_time< '____'\\\n",
    "        and content_type = '＿＿＿'\\\n",
    "        order by post_time desc\\\n",
    "        limit 10000;\"\n",
    "\n",
    "doc = pd.read_sql(SQLstr, conn)\n",
    "conn.close()\n",
    "print(doc.shape)\n",
    "print(doc.columns)\n",
    "\n"
   ]
  },
  {
   "cell_type": "code",
   "execution_count": null,
   "metadata": {},
   "outputs": [],
   "source": [
    "writer=pd.ExcelWriter(r\"C:\\Users\\____\\desktop\\____.xlsx\", engine='xlsxwriter',options={'strings_to_urls': False})\n",
    "doc.to_excel(writer, index=False)\n",
    "\n",
    "writer.save()\n",
    "writer.close()\n",
    "print(Test.shape)"
   ]
  },
  {
   "cell_type": "code",
   "execution_count": null,
   "metadata": {
    "collapsed": true
   },
   "outputs": [],
   "source": []
  },
  {
   "cell_type": "markdown",
   "metadata": {},
   "source": [
    "## pymssql"
   ]
  },
  {
   "cell_type": "code",
   "execution_count": null,
   "metadata": {
    "collapsed": true
   },
   "outputs": [],
   "source": [
    "conn=pymssql.connect(server=\"___.__.__.___\",user=\"*****\",password=\"******\",\n",
    "                     database=\"______\",port=\"3306\",charset=\"utf8\",tds_version='7.3')"
   ]
  },
  {
   "cell_type": "code",
   "execution_count": null,
   "metadata": {},
   "outputs": [],
   "source": [
    "SQLstr = \"SELECT * from ______\\\n",
    "        where login_time > '_____' AND login_time < '______'\\\n",
    "        order by login_time ASC\"\n",
    "doc2 = pd.read_sql(SQLstr, conn)\n",
    "conn.close()\n",
    "print(doc2)"
   ]
  },
  {
   "cell_type": "code",
   "execution_count": null,
   "metadata": {
    "collapsed": true
   },
   "outputs": [],
   "source": [
    "writer=pd.ExcelWriter(r\"C:\\Users\\____\\Documents\\____.xlsx\", engine='xlsxwriter',options={'strings_to_urls': False})\n",
    "doc2.to_excel(writer, index=False)\n",
    "\n",
    "writer.save()\n",
    "writer.close()"
   ]
  },
  {
   "cell_type": "code",
   "execution_count": null,
   "metadata": {
    "collapsed": true
   },
   "outputs": [],
   "source": []
  }
 ],
 "metadata": {
  "kernelspec": {
   "display_name": "Python 3",
   "language": "python",
   "name": "python3"
  },
  "language_info": {
   "codemirror_mode": {
    "name": "ipython",
    "version": 3
   },
   "file_extension": ".py",
   "mimetype": "text/x-python",
   "name": "python",
   "nbconvert_exporter": "python",
   "pygments_lexer": "ipython3",
   "version": "3.6.2"
  }
 },
 "nbformat": 4,
 "nbformat_minor": 2
}
