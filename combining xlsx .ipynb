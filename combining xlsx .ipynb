{
 "cells": [
  {
   "cell_type": "code",
   "execution_count": null,
   "metadata": {
    "collapsed": true
   },
   "outputs": [],
   "source": [
    "import pandas as pd\n",
    "import numpy as np"
   ]
  },
  {
   "cell_type": "code",
   "execution_count": null,
   "metadata": {
    "collapsed": true
   },
   "outputs": [],
   "source": [
    "import glob\n",
    "import sys"
   ]
  },
  {
   "cell_type": "markdown",
   "metadata": {},
   "source": [
    "# 合併輸出"
   ]
  },
  {
   "cell_type": "code",
   "execution_count": null,
   "metadata": {
    "scrolled": false
   },
   "outputs": [],
   "source": [
    "path=r\"C:\\Users\\____\\Documents\\____\\___\"\n",
    "files=glob.glob(path+r\"\\**\\*.xlsx\", recursive=True)\n",
    "\n",
    "targetdata=pd.DataFrame()\n",
    "for f in files:\n",
    "    targetdata=pd.concat([targetdata,pd.read_excel(f)],axis=0)\n",
    "\n",
    "print(type(targetdata))\n",
    "print(targetdata.shape)"
   ]
  },
  {
   "cell_type": "code",
   "execution_count": null,
   "metadata": {},
   "outputs": [],
   "source": [
    "writer = pd.ExcelWriter(r\"C:\\Users\\hhchen\\Documents\\客戶資料\\ndu國防大學\\20190410年金改革分析報告\\raw data\\年改top50主回文\\年改top50主回文(全).xlsx\",engine='xlsxwriter',options={'strings_to_urls': False})\n",
    "targetdata.to_excel(writer,index=False)\n",
    "writer.close()\n",
    "print(\"完成\")"
   ]
  },
  {
   "cell_type": "code",
   "execution_count": null,
   "metadata": {
    "collapsed": true
   },
   "outputs": [],
   "source": []
  },
  {
   "cell_type": "code",
   "execution_count": null,
   "metadata": {
    "collapsed": true
   },
   "outputs": [],
   "source": []
  },
  {
   "cell_type": "code",
   "execution_count": null,
   "metadata": {
    "collapsed": true
   },
   "outputs": [],
   "source": []
  },
  {
   "cell_type": "code",
   "execution_count": null,
   "metadata": {
    "collapsed": true
   },
   "outputs": [],
   "source": []
  },
  {
   "cell_type": "code",
   "execution_count": null,
   "metadata": {
    "collapsed": true
   },
   "outputs": [],
   "source": []
  },
  {
   "cell_type": "code",
   "execution_count": null,
   "metadata": {
    "collapsed": true
   },
   "outputs": [],
   "source": []
  },
  {
   "cell_type": "code",
   "execution_count": null,
   "metadata": {
    "collapsed": true
   },
   "outputs": [],
   "source": []
  },
  {
   "cell_type": "code",
   "execution_count": null,
   "metadata": {
    "collapsed": true
   },
   "outputs": [],
   "source": [
    "df=pd.read_excel(r\"C:\\Users\\hhchen\\Documents\\客戶資料\\台灣松下\\資料匯送\\第二批(智慧家電)\\raw data\\智慧家電(全).xlsx\")\n",
    "\n",
    "table1=pd.pivot_table(df, index=[u'標題'], values=[u'主文/回文'], aggfunc='count')\n",
    "table1.sort_values('主文/回文',axis=0,ascending=False)"
   ]
  },
  {
   "cell_type": "code",
   "execution_count": null,
   "metadata": {
    "collapsed": true
   },
   "outputs": [],
   "source": [
    "table1.sort_values('主文/回文',axis=0,ascending=False).head(50)"
   ]
  },
  {
   "cell_type": "code",
   "execution_count": null,
   "metadata": {
    "collapsed": true
   },
   "outputs": [],
   "source": []
  },
  {
   "cell_type": "code",
   "execution_count": null,
   "metadata": {
    "collapsed": true
   },
   "outputs": [],
   "source": []
  },
  {
   "cell_type": "code",
   "execution_count": null,
   "metadata": {
    "collapsed": true
   },
   "outputs": [],
   "source": []
  },
  {
   "cell_type": "markdown",
   "metadata": {},
   "source": []
  },
  {
   "cell_type": "markdown",
   "metadata": {},
   "source": []
  },
  {
   "cell_type": "markdown",
   "metadata": {},
   "source": []
  },
  {
   "cell_type": "code",
   "execution_count": null,
   "metadata": {
    "collapsed": true
   },
   "outputs": [],
   "source": [
    "import os, time, glob\n",
    "import datetime"
   ]
  },
  {
   "cell_type": "code",
   "execution_count": null,
   "metadata": {
    "collapsed": true
   },
   "outputs": [],
   "source": [
    "T=pd.read_excel(r\"C:\\Users\\hhchen\\Documents\\客戶資料\\交大傳科\\賴老師－花蓮地震\\20181104 資料寄回\\Raw data\\20181107 欄位處理與合併\\交大資料(全).xlsx\")\n"
   ]
  },
  {
   "cell_type": "code",
   "execution_count": null,
   "metadata": {},
   "outputs": [],
   "source": [
    "print(\"開始時間\", time.ctime())\n",
    "T1=T[(T['整理'].str.contains(\"0\"))==False]\n",
    "\n",
    "print(T1.shape)\n",
    "\n",
    "writer = pd.ExcelWriter(r\"C:\\Users\\hhchen\\Documents\\客戶資料\\交大傳科\\賴老師－花蓮地震\\20181104 資料寄回\\Raw data\\20181107 欄位處理與合併\\交大資料(全地震相關).xlsx\",engine='xlsxwriter',options={'strings_to_urls': False})\n",
    "T1.to_excel(writer)\n",
    "writer.close()\n",
    "\n",
    "print(\"結束時間\", time.ctime())\n",
    "print(H1.shape)"
   ]
  }
 ],
 "metadata": {
  "kernelspec": {
   "display_name": "Python 3",
   "language": "python",
   "name": "python3"
  },
  "language_info": {
   "codemirror_mode": {
    "name": "ipython",
    "version": 3
   },
   "file_extension": ".py",
   "mimetype": "text/x-python",
   "name": "python",
   "nbconvert_exporter": "python",
   "pygments_lexer": "ipython3",
   "version": "3.6.2"
  }
 },
 "nbformat": 4,
 "nbformat_minor": 2
}
